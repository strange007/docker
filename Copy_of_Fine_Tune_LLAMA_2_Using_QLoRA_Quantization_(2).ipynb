{
  "nbformat": 4,
  "nbformat_minor": 0,
  "metadata": {
    "colab": {
      "provenance": [],
      "gpuType": "T4",
      "include_colab_link": true
    },
    "kernelspec": {
      "name": "python3",
      "display_name": "Python 3"
    },
    "language_info": {
      "name": "python"
    },
    "accelerator": "GPU",
    "widgets": {
      "application/vnd.jupyter.widget-state+json": {
        "bf15f4895cdf468e8b1cce4cb9ac63ea": {
          "model_module": "@jupyter-widgets/controls",
          "model_name": "HBoxModel",
          "model_module_version": "1.5.0",
          "state": {
            "_dom_classes": [],
            "_model_module": "@jupyter-widgets/controls",
            "_model_module_version": "1.5.0",
            "_model_name": "HBoxModel",
            "_view_count": null,
            "_view_module": "@jupyter-widgets/controls",
            "_view_module_version": "1.5.0",
            "_view_name": "HBoxView",
            "box_style": "",
            "children": [
              "IPY_MODEL_a570fd881c954d31bb1adbc815db69fb",
              "IPY_MODEL_d3364390f54546e193984b2ee3d60f80",
              "IPY_MODEL_0b83df02e93b4477a0c9040bc369c3e7"
            ],
            "layout": "IPY_MODEL_53f7313f9dcc4507ac5b1123f89ad36f"
          }
        },
        "a570fd881c954d31bb1adbc815db69fb": {
          "model_module": "@jupyter-widgets/controls",
          "model_name": "HTMLModel",
          "model_module_version": "1.5.0",
          "state": {
            "_dom_classes": [],
            "_model_module": "@jupyter-widgets/controls",
            "_model_module_version": "1.5.0",
            "_model_name": "HTMLModel",
            "_view_count": null,
            "_view_module": "@jupyter-widgets/controls",
            "_view_module_version": "1.5.0",
            "_view_name": "HTMLView",
            "description": "",
            "description_tooltip": null,
            "layout": "IPY_MODEL_432e817e27214e3da3cabe5a7c3fe0fe",
            "placeholder": "​",
            "style": "IPY_MODEL_a268c31a22cc4b18a65e5728547a9285",
            "value": "Filter: 100%"
          }
        },
        "d3364390f54546e193984b2ee3d60f80": {
          "model_module": "@jupyter-widgets/controls",
          "model_name": "FloatProgressModel",
          "model_module_version": "1.5.0",
          "state": {
            "_dom_classes": [],
            "_model_module": "@jupyter-widgets/controls",
            "_model_module_version": "1.5.0",
            "_model_name": "FloatProgressModel",
            "_view_count": null,
            "_view_module": "@jupyter-widgets/controls",
            "_view_module_version": "1.5.0",
            "_view_name": "ProgressView",
            "bar_style": "success",
            "description": "",
            "description_tooltip": null,
            "layout": "IPY_MODEL_ce6f0125fb8849f0a6007ec62656b36f",
            "max": 12460,
            "min": 0,
            "orientation": "horizontal",
            "style": "IPY_MODEL_d1498e405ca1462a982c0b482aad6113",
            "value": 12460
          }
        },
        "0b83df02e93b4477a0c9040bc369c3e7": {
          "model_module": "@jupyter-widgets/controls",
          "model_name": "HTMLModel",
          "model_module_version": "1.5.0",
          "state": {
            "_dom_classes": [],
            "_model_module": "@jupyter-widgets/controls",
            "_model_module_version": "1.5.0",
            "_model_name": "HTMLModel",
            "_view_count": null,
            "_view_module": "@jupyter-widgets/controls",
            "_view_module_version": "1.5.0",
            "_view_name": "HTMLView",
            "description": "",
            "description_tooltip": null,
            "layout": "IPY_MODEL_19c698a07da94f788d450c103801ab9a",
            "placeholder": "​",
            "style": "IPY_MODEL_21953001a08143ff95ea387d59ac2f20",
            "value": " 12460/12460 [00:00&lt;00:00, 52595.04 examples/s]"
          }
        },
        "53f7313f9dcc4507ac5b1123f89ad36f": {
          "model_module": "@jupyter-widgets/base",
          "model_name": "LayoutModel",
          "model_module_version": "1.2.0",
          "state": {
            "_model_module": "@jupyter-widgets/base",
            "_model_module_version": "1.2.0",
            "_model_name": "LayoutModel",
            "_view_count": null,
            "_view_module": "@jupyter-widgets/base",
            "_view_module_version": "1.2.0",
            "_view_name": "LayoutView",
            "align_content": null,
            "align_items": null,
            "align_self": null,
            "border": null,
            "bottom": null,
            "display": null,
            "flex": null,
            "flex_flow": null,
            "grid_area": null,
            "grid_auto_columns": null,
            "grid_auto_flow": null,
            "grid_auto_rows": null,
            "grid_column": null,
            "grid_gap": null,
            "grid_row": null,
            "grid_template_areas": null,
            "grid_template_columns": null,
            "grid_template_rows": null,
            "height": null,
            "justify_content": null,
            "justify_items": null,
            "left": null,
            "margin": null,
            "max_height": null,
            "max_width": null,
            "min_height": null,
            "min_width": null,
            "object_fit": null,
            "object_position": null,
            "order": null,
            "overflow": null,
            "overflow_x": null,
            "overflow_y": null,
            "padding": null,
            "right": null,
            "top": null,
            "visibility": null,
            "width": null
          }
        },
        "432e817e27214e3da3cabe5a7c3fe0fe": {
          "model_module": "@jupyter-widgets/base",
          "model_name": "LayoutModel",
          "model_module_version": "1.2.0",
          "state": {
            "_model_module": "@jupyter-widgets/base",
            "_model_module_version": "1.2.0",
            "_model_name": "LayoutModel",
            "_view_count": null,
            "_view_module": "@jupyter-widgets/base",
            "_view_module_version": "1.2.0",
            "_view_name": "LayoutView",
            "align_content": null,
            "align_items": null,
            "align_self": null,
            "border": null,
            "bottom": null,
            "display": null,
            "flex": null,
            "flex_flow": null,
            "grid_area": null,
            "grid_auto_columns": null,
            "grid_auto_flow": null,
            "grid_auto_rows": null,
            "grid_column": null,
            "grid_gap": null,
            "grid_row": null,
            "grid_template_areas": null,
            "grid_template_columns": null,
            "grid_template_rows": null,
            "height": null,
            "justify_content": null,
            "justify_items": null,
            "left": null,
            "margin": null,
            "max_height": null,
            "max_width": null,
            "min_height": null,
            "min_width": null,
            "object_fit": null,
            "object_position": null,
            "order": null,
            "overflow": null,
            "overflow_x": null,
            "overflow_y": null,
            "padding": null,
            "right": null,
            "top": null,
            "visibility": null,
            "width": null
          }
        },
        "a268c31a22cc4b18a65e5728547a9285": {
          "model_module": "@jupyter-widgets/controls",
          "model_name": "DescriptionStyleModel",
          "model_module_version": "1.5.0",
          "state": {
            "_model_module": "@jupyter-widgets/controls",
            "_model_module_version": "1.5.0",
            "_model_name": "DescriptionStyleModel",
            "_view_count": null,
            "_view_module": "@jupyter-widgets/base",
            "_view_module_version": "1.2.0",
            "_view_name": "StyleView",
            "description_width": ""
          }
        },
        "ce6f0125fb8849f0a6007ec62656b36f": {
          "model_module": "@jupyter-widgets/base",
          "model_name": "LayoutModel",
          "model_module_version": "1.2.0",
          "state": {
            "_model_module": "@jupyter-widgets/base",
            "_model_module_version": "1.2.0",
            "_model_name": "LayoutModel",
            "_view_count": null,
            "_view_module": "@jupyter-widgets/base",
            "_view_module_version": "1.2.0",
            "_view_name": "LayoutView",
            "align_content": null,
            "align_items": null,
            "align_self": null,
            "border": null,
            "bottom": null,
            "display": null,
            "flex": null,
            "flex_flow": null,
            "grid_area": null,
            "grid_auto_columns": null,
            "grid_auto_flow": null,
            "grid_auto_rows": null,
            "grid_column": null,
            "grid_gap": null,
            "grid_row": null,
            "grid_template_areas": null,
            "grid_template_columns": null,
            "grid_template_rows": null,
            "height": null,
            "justify_content": null,
            "justify_items": null,
            "left": null,
            "margin": null,
            "max_height": null,
            "max_width": null,
            "min_height": null,
            "min_width": null,
            "object_fit": null,
            "object_position": null,
            "order": null,
            "overflow": null,
            "overflow_x": null,
            "overflow_y": null,
            "padding": null,
            "right": null,
            "top": null,
            "visibility": null,
            "width": null
          }
        },
        "d1498e405ca1462a982c0b482aad6113": {
          "model_module": "@jupyter-widgets/controls",
          "model_name": "ProgressStyleModel",
          "model_module_version": "1.5.0",
          "state": {
            "_model_module": "@jupyter-widgets/controls",
            "_model_module_version": "1.5.0",
            "_model_name": "ProgressStyleModel",
            "_view_count": null,
            "_view_module": "@jupyter-widgets/base",
            "_view_module_version": "1.2.0",
            "_view_name": "StyleView",
            "bar_color": null,
            "description_width": ""
          }
        },
        "19c698a07da94f788d450c103801ab9a": {
          "model_module": "@jupyter-widgets/base",
          "model_name": "LayoutModel",
          "model_module_version": "1.2.0",
          "state": {
            "_model_module": "@jupyter-widgets/base",
            "_model_module_version": "1.2.0",
            "_model_name": "LayoutModel",
            "_view_count": null,
            "_view_module": "@jupyter-widgets/base",
            "_view_module_version": "1.2.0",
            "_view_name": "LayoutView",
            "align_content": null,
            "align_items": null,
            "align_self": null,
            "border": null,
            "bottom": null,
            "display": null,
            "flex": null,
            "flex_flow": null,
            "grid_area": null,
            "grid_auto_columns": null,
            "grid_auto_flow": null,
            "grid_auto_rows": null,
            "grid_column": null,
            "grid_gap": null,
            "grid_row": null,
            "grid_template_areas": null,
            "grid_template_columns": null,
            "grid_template_rows": null,
            "height": null,
            "justify_content": null,
            "justify_items": null,
            "left": null,
            "margin": null,
            "max_height": null,
            "max_width": null,
            "min_height": null,
            "min_width": null,
            "object_fit": null,
            "object_position": null,
            "order": null,
            "overflow": null,
            "overflow_x": null,
            "overflow_y": null,
            "padding": null,
            "right": null,
            "top": null,
            "visibility": null,
            "width": null
          }
        },
        "21953001a08143ff95ea387d59ac2f20": {
          "model_module": "@jupyter-widgets/controls",
          "model_name": "DescriptionStyleModel",
          "model_module_version": "1.5.0",
          "state": {
            "_model_module": "@jupyter-widgets/controls",
            "_model_module_version": "1.5.0",
            "_model_name": "DescriptionStyleModel",
            "_view_count": null,
            "_view_module": "@jupyter-widgets/base",
            "_view_module_version": "1.2.0",
            "_view_name": "StyleView",
            "description_width": ""
          }
        },
        "0910ea033d5a44de996dde979b4b1f6d": {
          "model_module": "@jupyter-widgets/controls",
          "model_name": "HBoxModel",
          "model_module_version": "1.5.0",
          "state": {
            "_dom_classes": [],
            "_model_module": "@jupyter-widgets/controls",
            "_model_module_version": "1.5.0",
            "_model_name": "HBoxModel",
            "_view_count": null,
            "_view_module": "@jupyter-widgets/controls",
            "_view_module_version": "1.5.0",
            "_view_name": "HBoxView",
            "box_style": "",
            "children": [
              "IPY_MODEL_48cb4c0d3e834dbf932f0f3a019cdedd",
              "IPY_MODEL_69168e84565a48c98ab2283916738760",
              "IPY_MODEL_d063fa83a8b749278edd1a3588c28cfd"
            ],
            "layout": "IPY_MODEL_03d016099a6348e5b4917e912444eeba"
          }
        },
        "48cb4c0d3e834dbf932f0f3a019cdedd": {
          "model_module": "@jupyter-widgets/controls",
          "model_name": "HTMLModel",
          "model_module_version": "1.5.0",
          "state": {
            "_dom_classes": [],
            "_model_module": "@jupyter-widgets/controls",
            "_model_module_version": "1.5.0",
            "_model_name": "HTMLModel",
            "_view_count": null,
            "_view_module": "@jupyter-widgets/controls",
            "_view_module_version": "1.5.0",
            "_view_name": "HTMLView",
            "description": "",
            "description_tooltip": null,
            "layout": "IPY_MODEL_f0831faa484044b498d5084104e44b01",
            "placeholder": "​",
            "style": "IPY_MODEL_424888bfb24a486fb84626daca4d8ff3",
            "value": "Filter: 100%"
          }
        },
        "69168e84565a48c98ab2283916738760": {
          "model_module": "@jupyter-widgets/controls",
          "model_name": "FloatProgressModel",
          "model_module_version": "1.5.0",
          "state": {
            "_dom_classes": [],
            "_model_module": "@jupyter-widgets/controls",
            "_model_module_version": "1.5.0",
            "_model_name": "FloatProgressModel",
            "_view_count": null,
            "_view_module": "@jupyter-widgets/controls",
            "_view_module_version": "1.5.0",
            "_view_name": "ProgressView",
            "bar_style": "success",
            "description": "",
            "description_tooltip": null,
            "layout": "IPY_MODEL_97286180510346cd940ee8c863751a90",
            "max": 500,
            "min": 0,
            "orientation": "horizontal",
            "style": "IPY_MODEL_561d90e3cdc74838a05c58da06485aa6",
            "value": 500
          }
        },
        "d063fa83a8b749278edd1a3588c28cfd": {
          "model_module": "@jupyter-widgets/controls",
          "model_name": "HTMLModel",
          "model_module_version": "1.5.0",
          "state": {
            "_dom_classes": [],
            "_model_module": "@jupyter-widgets/controls",
            "_model_module_version": "1.5.0",
            "_model_name": "HTMLModel",
            "_view_count": null,
            "_view_module": "@jupyter-widgets/controls",
            "_view_module_version": "1.5.0",
            "_view_name": "HTMLView",
            "description": "",
            "description_tooltip": null,
            "layout": "IPY_MODEL_d6cca172e2f3435b98c10d35286d8299",
            "placeholder": "​",
            "style": "IPY_MODEL_825d4b21d41c40eb8202a205621e7c92",
            "value": " 500/500 [00:00&lt;00:00, 16359.72 examples/s]"
          }
        },
        "03d016099a6348e5b4917e912444eeba": {
          "model_module": "@jupyter-widgets/base",
          "model_name": "LayoutModel",
          "model_module_version": "1.2.0",
          "state": {
            "_model_module": "@jupyter-widgets/base",
            "_model_module_version": "1.2.0",
            "_model_name": "LayoutModel",
            "_view_count": null,
            "_view_module": "@jupyter-widgets/base",
            "_view_module_version": "1.2.0",
            "_view_name": "LayoutView",
            "align_content": null,
            "align_items": null,
            "align_self": null,
            "border": null,
            "bottom": null,
            "display": null,
            "flex": null,
            "flex_flow": null,
            "grid_area": null,
            "grid_auto_columns": null,
            "grid_auto_flow": null,
            "grid_auto_rows": null,
            "grid_column": null,
            "grid_gap": null,
            "grid_row": null,
            "grid_template_areas": null,
            "grid_template_columns": null,
            "grid_template_rows": null,
            "height": null,
            "justify_content": null,
            "justify_items": null,
            "left": null,
            "margin": null,
            "max_height": null,
            "max_width": null,
            "min_height": null,
            "min_width": null,
            "object_fit": null,
            "object_position": null,
            "order": null,
            "overflow": null,
            "overflow_x": null,
            "overflow_y": null,
            "padding": null,
            "right": null,
            "top": null,
            "visibility": null,
            "width": null
          }
        },
        "f0831faa484044b498d5084104e44b01": {
          "model_module": "@jupyter-widgets/base",
          "model_name": "LayoutModel",
          "model_module_version": "1.2.0",
          "state": {
            "_model_module": "@jupyter-widgets/base",
            "_model_module_version": "1.2.0",
            "_model_name": "LayoutModel",
            "_view_count": null,
            "_view_module": "@jupyter-widgets/base",
            "_view_module_version": "1.2.0",
            "_view_name": "LayoutView",
            "align_content": null,
            "align_items": null,
            "align_self": null,
            "border": null,
            "bottom": null,
            "display": null,
            "flex": null,
            "flex_flow": null,
            "grid_area": null,
            "grid_auto_columns": null,
            "grid_auto_flow": null,
            "grid_auto_rows": null,
            "grid_column": null,
            "grid_gap": null,
            "grid_row": null,
            "grid_template_areas": null,
            "grid_template_columns": null,
            "grid_template_rows": null,
            "height": null,
            "justify_content": null,
            "justify_items": null,
            "left": null,
            "margin": null,
            "max_height": null,
            "max_width": null,
            "min_height": null,
            "min_width": null,
            "object_fit": null,
            "object_position": null,
            "order": null,
            "overflow": null,
            "overflow_x": null,
            "overflow_y": null,
            "padding": null,
            "right": null,
            "top": null,
            "visibility": null,
            "width": null
          }
        },
        "424888bfb24a486fb84626daca4d8ff3": {
          "model_module": "@jupyter-widgets/controls",
          "model_name": "DescriptionStyleModel",
          "model_module_version": "1.5.0",
          "state": {
            "_model_module": "@jupyter-widgets/controls",
            "_model_module_version": "1.5.0",
            "_model_name": "DescriptionStyleModel",
            "_view_count": null,
            "_view_module": "@jupyter-widgets/base",
            "_view_module_version": "1.2.0",
            "_view_name": "StyleView",
            "description_width": ""
          }
        },
        "97286180510346cd940ee8c863751a90": {
          "model_module": "@jupyter-widgets/base",
          "model_name": "LayoutModel",
          "model_module_version": "1.2.0",
          "state": {
            "_model_module": "@jupyter-widgets/base",
            "_model_module_version": "1.2.0",
            "_model_name": "LayoutModel",
            "_view_count": null,
            "_view_module": "@jupyter-widgets/base",
            "_view_module_version": "1.2.0",
            "_view_name": "LayoutView",
            "align_content": null,
            "align_items": null,
            "align_self": null,
            "border": null,
            "bottom": null,
            "display": null,
            "flex": null,
            "flex_flow": null,
            "grid_area": null,
            "grid_auto_columns": null,
            "grid_auto_flow": null,
            "grid_auto_rows": null,
            "grid_column": null,
            "grid_gap": null,
            "grid_row": null,
            "grid_template_areas": null,
            "grid_template_columns": null,
            "grid_template_rows": null,
            "height": null,
            "justify_content": null,
            "justify_items": null,
            "left": null,
            "margin": null,
            "max_height": null,
            "max_width": null,
            "min_height": null,
            "min_width": null,
            "object_fit": null,
            "object_position": null,
            "order": null,
            "overflow": null,
            "overflow_x": null,
            "overflow_y": null,
            "padding": null,
            "right": null,
            "top": null,
            "visibility": null,
            "width": null
          }
        },
        "561d90e3cdc74838a05c58da06485aa6": {
          "model_module": "@jupyter-widgets/controls",
          "model_name": "ProgressStyleModel",
          "model_module_version": "1.5.0",
          "state": {
            "_model_module": "@jupyter-widgets/controls",
            "_model_module_version": "1.5.0",
            "_model_name": "ProgressStyleModel",
            "_view_count": null,
            "_view_module": "@jupyter-widgets/base",
            "_view_module_version": "1.2.0",
            "_view_name": "StyleView",
            "bar_color": null,
            "description_width": ""
          }
        },
        "d6cca172e2f3435b98c10d35286d8299": {
          "model_module": "@jupyter-widgets/base",
          "model_name": "LayoutModel",
          "model_module_version": "1.2.0",
          "state": {
            "_model_module": "@jupyter-widgets/base",
            "_model_module_version": "1.2.0",
            "_model_name": "LayoutModel",
            "_view_count": null,
            "_view_module": "@jupyter-widgets/base",
            "_view_module_version": "1.2.0",
            "_view_name": "LayoutView",
            "align_content": null,
            "align_items": null,
            "align_self": null,
            "border": null,
            "bottom": null,
            "display": null,
            "flex": null,
            "flex_flow": null,
            "grid_area": null,
            "grid_auto_columns": null,
            "grid_auto_flow": null,
            "grid_auto_rows": null,
            "grid_column": null,
            "grid_gap": null,
            "grid_row": null,
            "grid_template_areas": null,
            "grid_template_columns": null,
            "grid_template_rows": null,
            "height": null,
            "justify_content": null,
            "justify_items": null,
            "left": null,
            "margin": null,
            "max_height": null,
            "max_width": null,
            "min_height": null,
            "min_width": null,
            "object_fit": null,
            "object_position": null,
            "order": null,
            "overflow": null,
            "overflow_x": null,
            "overflow_y": null,
            "padding": null,
            "right": null,
            "top": null,
            "visibility": null,
            "width": null
          }
        },
        "825d4b21d41c40eb8202a205621e7c92": {
          "model_module": "@jupyter-widgets/controls",
          "model_name": "DescriptionStyleModel",
          "model_module_version": "1.5.0",
          "state": {
            "_model_module": "@jupyter-widgets/controls",
            "_model_module_version": "1.5.0",
            "_model_name": "DescriptionStyleModel",
            "_view_count": null,
            "_view_module": "@jupyter-widgets/base",
            "_view_module_version": "1.2.0",
            "_view_name": "StyleView",
            "description_width": ""
          }
        },
        "65974533a9bf44b6aefa8dabd562a0c1": {
          "model_module": "@jupyter-widgets/controls",
          "model_name": "HBoxModel",
          "model_module_version": "1.5.0",
          "state": {
            "_dom_classes": [],
            "_model_module": "@jupyter-widgets/controls",
            "_model_module_version": "1.5.0",
            "_model_name": "HBoxModel",
            "_view_count": null,
            "_view_module": "@jupyter-widgets/controls",
            "_view_module_version": "1.5.0",
            "_view_name": "HBoxView",
            "box_style": "",
            "children": [
              "IPY_MODEL_22a462ed52f54ed58930cbb0de8d4533",
              "IPY_MODEL_dfbf953bf2fb48bf9baaef36ba661021",
              "IPY_MODEL_84aeff4581cb465097277b5a1ba97c33"
            ],
            "layout": "IPY_MODEL_fc881497973c4e2d8b612b72ccf51935"
          }
        },
        "22a462ed52f54ed58930cbb0de8d4533": {
          "model_module": "@jupyter-widgets/controls",
          "model_name": "HTMLModel",
          "model_module_version": "1.5.0",
          "state": {
            "_dom_classes": [],
            "_model_module": "@jupyter-widgets/controls",
            "_model_module_version": "1.5.0",
            "_model_name": "HTMLModel",
            "_view_count": null,
            "_view_module": "@jupyter-widgets/controls",
            "_view_module_version": "1.5.0",
            "_view_name": "HTMLView",
            "description": "",
            "description_tooltip": null,
            "layout": "IPY_MODEL_049aa8132df24f72ab23a19e142beb29",
            "placeholder": "​",
            "style": "IPY_MODEL_b2823ce125d64ee0a1127401d9599ecd",
            "value": "Filter: 100%"
          }
        },
        "dfbf953bf2fb48bf9baaef36ba661021": {
          "model_module": "@jupyter-widgets/controls",
          "model_name": "FloatProgressModel",
          "model_module_version": "1.5.0",
          "state": {
            "_dom_classes": [],
            "_model_module": "@jupyter-widgets/controls",
            "_model_module_version": "1.5.0",
            "_model_name": "FloatProgressModel",
            "_view_count": null,
            "_view_module": "@jupyter-widgets/controls",
            "_view_module_version": "1.5.0",
            "_view_name": "ProgressView",
            "bar_style": "success",
            "description": "",
            "description_tooltip": null,
            "layout": "IPY_MODEL_f1f42033b24b44708b872d08ef005899",
            "max": 1500,
            "min": 0,
            "orientation": "horizontal",
            "style": "IPY_MODEL_a2756476e80e4db0baaaf2152f07ec26",
            "value": 1500
          }
        },
        "84aeff4581cb465097277b5a1ba97c33": {
          "model_module": "@jupyter-widgets/controls",
          "model_name": "HTMLModel",
          "model_module_version": "1.5.0",
          "state": {
            "_dom_classes": [],
            "_model_module": "@jupyter-widgets/controls",
            "_model_module_version": "1.5.0",
            "_model_name": "HTMLModel",
            "_view_count": null,
            "_view_module": "@jupyter-widgets/controls",
            "_view_module_version": "1.5.0",
            "_view_name": "HTMLView",
            "description": "",
            "description_tooltip": null,
            "layout": "IPY_MODEL_ddd69e15c56946c2b6bf87861eb54d3a",
            "placeholder": "​",
            "style": "IPY_MODEL_7970e6f630ff4ac5bedeed53b67b4a95",
            "value": " 1500/1500 [00:00&lt;00:00, 34751.36 examples/s]"
          }
        },
        "fc881497973c4e2d8b612b72ccf51935": {
          "model_module": "@jupyter-widgets/base",
          "model_name": "LayoutModel",
          "model_module_version": "1.2.0",
          "state": {
            "_model_module": "@jupyter-widgets/base",
            "_model_module_version": "1.2.0",
            "_model_name": "LayoutModel",
            "_view_count": null,
            "_view_module": "@jupyter-widgets/base",
            "_view_module_version": "1.2.0",
            "_view_name": "LayoutView",
            "align_content": null,
            "align_items": null,
            "align_self": null,
            "border": null,
            "bottom": null,
            "display": null,
            "flex": null,
            "flex_flow": null,
            "grid_area": null,
            "grid_auto_columns": null,
            "grid_auto_flow": null,
            "grid_auto_rows": null,
            "grid_column": null,
            "grid_gap": null,
            "grid_row": null,
            "grid_template_areas": null,
            "grid_template_columns": null,
            "grid_template_rows": null,
            "height": null,
            "justify_content": null,
            "justify_items": null,
            "left": null,
            "margin": null,
            "max_height": null,
            "max_width": null,
            "min_height": null,
            "min_width": null,
            "object_fit": null,
            "object_position": null,
            "order": null,
            "overflow": null,
            "overflow_x": null,
            "overflow_y": null,
            "padding": null,
            "right": null,
            "top": null,
            "visibility": null,
            "width": null
          }
        },
        "049aa8132df24f72ab23a19e142beb29": {
          "model_module": "@jupyter-widgets/base",
          "model_name": "LayoutModel",
          "model_module_version": "1.2.0",
          "state": {
            "_model_module": "@jupyter-widgets/base",
            "_model_module_version": "1.2.0",
            "_model_name": "LayoutModel",
            "_view_count": null,
            "_view_module": "@jupyter-widgets/base",
            "_view_module_version": "1.2.0",
            "_view_name": "LayoutView",
            "align_content": null,
            "align_items": null,
            "align_self": null,
            "border": null,
            "bottom": null,
            "display": null,
            "flex": null,
            "flex_flow": null,
            "grid_area": null,
            "grid_auto_columns": null,
            "grid_auto_flow": null,
            "grid_auto_rows": null,
            "grid_column": null,
            "grid_gap": null,
            "grid_row": null,
            "grid_template_areas": null,
            "grid_template_columns": null,
            "grid_template_rows": null,
            "height": null,
            "justify_content": null,
            "justify_items": null,
            "left": null,
            "margin": null,
            "max_height": null,
            "max_width": null,
            "min_height": null,
            "min_width": null,
            "object_fit": null,
            "object_position": null,
            "order": null,
            "overflow": null,
            "overflow_x": null,
            "overflow_y": null,
            "padding": null,
            "right": null,
            "top": null,
            "visibility": null,
            "width": null
          }
        },
        "b2823ce125d64ee0a1127401d9599ecd": {
          "model_module": "@jupyter-widgets/controls",
          "model_name": "DescriptionStyleModel",
          "model_module_version": "1.5.0",
          "state": {
            "_model_module": "@jupyter-widgets/controls",
            "_model_module_version": "1.5.0",
            "_model_name": "DescriptionStyleModel",
            "_view_count": null,
            "_view_module": "@jupyter-widgets/base",
            "_view_module_version": "1.2.0",
            "_view_name": "StyleView",
            "description_width": ""
          }
        },
        "f1f42033b24b44708b872d08ef005899": {
          "model_module": "@jupyter-widgets/base",
          "model_name": "LayoutModel",
          "model_module_version": "1.2.0",
          "state": {
            "_model_module": "@jupyter-widgets/base",
            "_model_module_version": "1.2.0",
            "_model_name": "LayoutModel",
            "_view_count": null,
            "_view_module": "@jupyter-widgets/base",
            "_view_module_version": "1.2.0",
            "_view_name": "LayoutView",
            "align_content": null,
            "align_items": null,
            "align_self": null,
            "border": null,
            "bottom": null,
            "display": null,
            "flex": null,
            "flex_flow": null,
            "grid_area": null,
            "grid_auto_columns": null,
            "grid_auto_flow": null,
            "grid_auto_rows": null,
            "grid_column": null,
            "grid_gap": null,
            "grid_row": null,
            "grid_template_areas": null,
            "grid_template_columns": null,
            "grid_template_rows": null,
            "height": null,
            "justify_content": null,
            "justify_items": null,
            "left": null,
            "margin": null,
            "max_height": null,
            "max_width": null,
            "min_height": null,
            "min_width": null,
            "object_fit": null,
            "object_position": null,
            "order": null,
            "overflow": null,
            "overflow_x": null,
            "overflow_y": null,
            "padding": null,
            "right": null,
            "top": null,
            "visibility": null,
            "width": null
          }
        },
        "a2756476e80e4db0baaaf2152f07ec26": {
          "model_module": "@jupyter-widgets/controls",
          "model_name": "ProgressStyleModel",
          "model_module_version": "1.5.0",
          "state": {
            "_model_module": "@jupyter-widgets/controls",
            "_model_module_version": "1.5.0",
            "_model_name": "ProgressStyleModel",
            "_view_count": null,
            "_view_module": "@jupyter-widgets/base",
            "_view_module_version": "1.2.0",
            "_view_name": "StyleView",
            "bar_color": null,
            "description_width": ""
          }
        },
        "ddd69e15c56946c2b6bf87861eb54d3a": {
          "model_module": "@jupyter-widgets/base",
          "model_name": "LayoutModel",
          "model_module_version": "1.2.0",
          "state": {
            "_model_module": "@jupyter-widgets/base",
            "_model_module_version": "1.2.0",
            "_model_name": "LayoutModel",
            "_view_count": null,
            "_view_module": "@jupyter-widgets/base",
            "_view_module_version": "1.2.0",
            "_view_name": "LayoutView",
            "align_content": null,
            "align_items": null,
            "align_self": null,
            "border": null,
            "bottom": null,
            "display": null,
            "flex": null,
            "flex_flow": null,
            "grid_area": null,
            "grid_auto_columns": null,
            "grid_auto_flow": null,
            "grid_auto_rows": null,
            "grid_column": null,
            "grid_gap": null,
            "grid_row": null,
            "grid_template_areas": null,
            "grid_template_columns": null,
            "grid_template_rows": null,
            "height": null,
            "justify_content": null,
            "justify_items": null,
            "left": null,
            "margin": null,
            "max_height": null,
            "max_width": null,
            "min_height": null,
            "min_width": null,
            "object_fit": null,
            "object_position": null,
            "order": null,
            "overflow": null,
            "overflow_x": null,
            "overflow_y": null,
            "padding": null,
            "right": null,
            "top": null,
            "visibility": null,
            "width": null
          }
        },
        "7970e6f630ff4ac5bedeed53b67b4a95": {
          "model_module": "@jupyter-widgets/controls",
          "model_name": "DescriptionStyleModel",
          "model_module_version": "1.5.0",
          "state": {
            "_model_module": "@jupyter-widgets/controls",
            "_model_module_version": "1.5.0",
            "_model_name": "DescriptionStyleModel",
            "_view_count": null,
            "_view_module": "@jupyter-widgets/base",
            "_view_module_version": "1.2.0",
            "_view_name": "StyleView",
            "description_width": ""
          }
        },
        "1b9a271a34aa468aae684fe234020a90": {
          "model_module": "@jupyter-widgets/controls",
          "model_name": "HBoxModel",
          "model_module_version": "1.5.0",
          "state": {
            "_dom_classes": [],
            "_model_module": "@jupyter-widgets/controls",
            "_model_module_version": "1.5.0",
            "_model_name": "HBoxModel",
            "_view_count": null,
            "_view_module": "@jupyter-widgets/controls",
            "_view_module_version": "1.5.0",
            "_view_name": "HBoxView",
            "box_style": "",
            "children": [
              "IPY_MODEL_ba667c85c7144911a5ab99300d9129fc",
              "IPY_MODEL_25ce2acbaa584b85aa3450faaaf6f30e",
              "IPY_MODEL_191a21608bda49fe911bae57ebfa34ce"
            ],
            "layout": "IPY_MODEL_475c517579ed4381b34fefbc4e991c2b"
          }
        },
        "ba667c85c7144911a5ab99300d9129fc": {
          "model_module": "@jupyter-widgets/controls",
          "model_name": "HTMLModel",
          "model_module_version": "1.5.0",
          "state": {
            "_dom_classes": [],
            "_model_module": "@jupyter-widgets/controls",
            "_model_module_version": "1.5.0",
            "_model_name": "HTMLModel",
            "_view_count": null,
            "_view_module": "@jupyter-widgets/controls",
            "_view_module_version": "1.5.0",
            "_view_name": "HTMLView",
            "description": "",
            "description_tooltip": null,
            "layout": "IPY_MODEL_3f61b6ce25074be991b70321bfb9ea69",
            "placeholder": "​",
            "style": "IPY_MODEL_adf90a86b1754b01bf2d01c5eb279fb0",
            "value": "Loading checkpoint shards: 100%"
          }
        },
        "25ce2acbaa584b85aa3450faaaf6f30e": {
          "model_module": "@jupyter-widgets/controls",
          "model_name": "FloatProgressModel",
          "model_module_version": "1.5.0",
          "state": {
            "_dom_classes": [],
            "_model_module": "@jupyter-widgets/controls",
            "_model_module_version": "1.5.0",
            "_model_name": "FloatProgressModel",
            "_view_count": null,
            "_view_module": "@jupyter-widgets/controls",
            "_view_module_version": "1.5.0",
            "_view_name": "ProgressView",
            "bar_style": "success",
            "description": "",
            "description_tooltip": null,
            "layout": "IPY_MODEL_c5cd335b66984214857426a4b83c749e",
            "max": 2,
            "min": 0,
            "orientation": "horizontal",
            "style": "IPY_MODEL_fe4da59305d3420688f713cbd6b9e4c7",
            "value": 2
          }
        },
        "191a21608bda49fe911bae57ebfa34ce": {
          "model_module": "@jupyter-widgets/controls",
          "model_name": "HTMLModel",
          "model_module_version": "1.5.0",
          "state": {
            "_dom_classes": [],
            "_model_module": "@jupyter-widgets/controls",
            "_model_module_version": "1.5.0",
            "_model_name": "HTMLModel",
            "_view_count": null,
            "_view_module": "@jupyter-widgets/controls",
            "_view_module_version": "1.5.0",
            "_view_name": "HTMLView",
            "description": "",
            "description_tooltip": null,
            "layout": "IPY_MODEL_9d8ab704262844a99096363715cb2e67",
            "placeholder": "​",
            "style": "IPY_MODEL_1c1823dd7fc3446393a9897576ab21c7",
            "value": " 2/2 [01:02&lt;00:00, 28.80s/it]"
          }
        },
        "475c517579ed4381b34fefbc4e991c2b": {
          "model_module": "@jupyter-widgets/base",
          "model_name": "LayoutModel",
          "model_module_version": "1.2.0",
          "state": {
            "_model_module": "@jupyter-widgets/base",
            "_model_module_version": "1.2.0",
            "_model_name": "LayoutModel",
            "_view_count": null,
            "_view_module": "@jupyter-widgets/base",
            "_view_module_version": "1.2.0",
            "_view_name": "LayoutView",
            "align_content": null,
            "align_items": null,
            "align_self": null,
            "border": null,
            "bottom": null,
            "display": null,
            "flex": null,
            "flex_flow": null,
            "grid_area": null,
            "grid_auto_columns": null,
            "grid_auto_flow": null,
            "grid_auto_rows": null,
            "grid_column": null,
            "grid_gap": null,
            "grid_row": null,
            "grid_template_areas": null,
            "grid_template_columns": null,
            "grid_template_rows": null,
            "height": null,
            "justify_content": null,
            "justify_items": null,
            "left": null,
            "margin": null,
            "max_height": null,
            "max_width": null,
            "min_height": null,
            "min_width": null,
            "object_fit": null,
            "object_position": null,
            "order": null,
            "overflow": null,
            "overflow_x": null,
            "overflow_y": null,
            "padding": null,
            "right": null,
            "top": null,
            "visibility": null,
            "width": null
          }
        },
        "3f61b6ce25074be991b70321bfb9ea69": {
          "model_module": "@jupyter-widgets/base",
          "model_name": "LayoutModel",
          "model_module_version": "1.2.0",
          "state": {
            "_model_module": "@jupyter-widgets/base",
            "_model_module_version": "1.2.0",
            "_model_name": "LayoutModel",
            "_view_count": null,
            "_view_module": "@jupyter-widgets/base",
            "_view_module_version": "1.2.0",
            "_view_name": "LayoutView",
            "align_content": null,
            "align_items": null,
            "align_self": null,
            "border": null,
            "bottom": null,
            "display": null,
            "flex": null,
            "flex_flow": null,
            "grid_area": null,
            "grid_auto_columns": null,
            "grid_auto_flow": null,
            "grid_auto_rows": null,
            "grid_column": null,
            "grid_gap": null,
            "grid_row": null,
            "grid_template_areas": null,
            "grid_template_columns": null,
            "grid_template_rows": null,
            "height": null,
            "justify_content": null,
            "justify_items": null,
            "left": null,
            "margin": null,
            "max_height": null,
            "max_width": null,
            "min_height": null,
            "min_width": null,
            "object_fit": null,
            "object_position": null,
            "order": null,
            "overflow": null,
            "overflow_x": null,
            "overflow_y": null,
            "padding": null,
            "right": null,
            "top": null,
            "visibility": null,
            "width": null
          }
        },
        "adf90a86b1754b01bf2d01c5eb279fb0": {
          "model_module": "@jupyter-widgets/controls",
          "model_name": "DescriptionStyleModel",
          "model_module_version": "1.5.0",
          "state": {
            "_model_module": "@jupyter-widgets/controls",
            "_model_module_version": "1.5.0",
            "_model_name": "DescriptionStyleModel",
            "_view_count": null,
            "_view_module": "@jupyter-widgets/base",
            "_view_module_version": "1.2.0",
            "_view_name": "StyleView",
            "description_width": ""
          }
        },
        "c5cd335b66984214857426a4b83c749e": {
          "model_module": "@jupyter-widgets/base",
          "model_name": "LayoutModel",
          "model_module_version": "1.2.0",
          "state": {
            "_model_module": "@jupyter-widgets/base",
            "_model_module_version": "1.2.0",
            "_model_name": "LayoutModel",
            "_view_count": null,
            "_view_module": "@jupyter-widgets/base",
            "_view_module_version": "1.2.0",
            "_view_name": "LayoutView",
            "align_content": null,
            "align_items": null,
            "align_self": null,
            "border": null,
            "bottom": null,
            "display": null,
            "flex": null,
            "flex_flow": null,
            "grid_area": null,
            "grid_auto_columns": null,
            "grid_auto_flow": null,
            "grid_auto_rows": null,
            "grid_column": null,
            "grid_gap": null,
            "grid_row": null,
            "grid_template_areas": null,
            "grid_template_columns": null,
            "grid_template_rows": null,
            "height": null,
            "justify_content": null,
            "justify_items": null,
            "left": null,
            "margin": null,
            "max_height": null,
            "max_width": null,
            "min_height": null,
            "min_width": null,
            "object_fit": null,
            "object_position": null,
            "order": null,
            "overflow": null,
            "overflow_x": null,
            "overflow_y": null,
            "padding": null,
            "right": null,
            "top": null,
            "visibility": null,
            "width": null
          }
        },
        "fe4da59305d3420688f713cbd6b9e4c7": {
          "model_module": "@jupyter-widgets/controls",
          "model_name": "ProgressStyleModel",
          "model_module_version": "1.5.0",
          "state": {
            "_model_module": "@jupyter-widgets/controls",
            "_model_module_version": "1.5.0",
            "_model_name": "ProgressStyleModel",
            "_view_count": null,
            "_view_module": "@jupyter-widgets/base",
            "_view_module_version": "1.2.0",
            "_view_name": "StyleView",
            "bar_color": null,
            "description_width": ""
          }
        },
        "9d8ab704262844a99096363715cb2e67": {
          "model_module": "@jupyter-widgets/base",
          "model_name": "LayoutModel",
          "model_module_version": "1.2.0",
          "state": {
            "_model_module": "@jupyter-widgets/base",
            "_model_module_version": "1.2.0",
            "_model_name": "LayoutModel",
            "_view_count": null,
            "_view_module": "@jupyter-widgets/base",
            "_view_module_version": "1.2.0",
            "_view_name": "LayoutView",
            "align_content": null,
            "align_items": null,
            "align_self": null,
            "border": null,
            "bottom": null,
            "display": null,
            "flex": null,
            "flex_flow": null,
            "grid_area": null,
            "grid_auto_columns": null,
            "grid_auto_flow": null,
            "grid_auto_rows": null,
            "grid_column": null,
            "grid_gap": null,
            "grid_row": null,
            "grid_template_areas": null,
            "grid_template_columns": null,
            "grid_template_rows": null,
            "height": null,
            "justify_content": null,
            "justify_items": null,
            "left": null,
            "margin": null,
            "max_height": null,
            "max_width": null,
            "min_height": null,
            "min_width": null,
            "object_fit": null,
            "object_position": null,
            "order": null,
            "overflow": null,
            "overflow_x": null,
            "overflow_y": null,
            "padding": null,
            "right": null,
            "top": null,
            "visibility": null,
            "width": null
          }
        },
        "1c1823dd7fc3446393a9897576ab21c7": {
          "model_module": "@jupyter-widgets/controls",
          "model_name": "DescriptionStyleModel",
          "model_module_version": "1.5.0",
          "state": {
            "_model_module": "@jupyter-widgets/controls",
            "_model_module_version": "1.5.0",
            "_model_name": "DescriptionStyleModel",
            "_view_count": null,
            "_view_module": "@jupyter-widgets/base",
            "_view_module_version": "1.2.0",
            "_view_name": "StyleView",
            "description_width": ""
          }
        },
        "22fd9ceea6a041fd8edb3413a118792b": {
          "model_module": "@jupyter-widgets/controls",
          "model_name": "HBoxModel",
          "model_module_version": "1.5.0",
          "state": {
            "_dom_classes": [],
            "_model_module": "@jupyter-widgets/controls",
            "_model_module_version": "1.5.0",
            "_model_name": "HBoxModel",
            "_view_count": null,
            "_view_module": "@jupyter-widgets/controls",
            "_view_module_version": "1.5.0",
            "_view_name": "HBoxView",
            "box_style": "",
            "children": [
              "IPY_MODEL_3b3079393efa40bea6f06c722c6d12aa",
              "IPY_MODEL_4a6da917a12e46d6ae884ec2ad864aaf",
              "IPY_MODEL_50fba0ad33de4b94a45f18d50630997a"
            ],
            "layout": "IPY_MODEL_06f8a411014c4d849323bd88e6948604"
          }
        },
        "3b3079393efa40bea6f06c722c6d12aa": {
          "model_module": "@jupyter-widgets/controls",
          "model_name": "HTMLModel",
          "model_module_version": "1.5.0",
          "state": {
            "_dom_classes": [],
            "_model_module": "@jupyter-widgets/controls",
            "_model_module_version": "1.5.0",
            "_model_name": "HTMLModel",
            "_view_count": null,
            "_view_module": "@jupyter-widgets/controls",
            "_view_module_version": "1.5.0",
            "_view_name": "HTMLView",
            "description": "",
            "description_tooltip": null,
            "layout": "IPY_MODEL_2f77d3637f4443a6b98e763e5b805704",
            "placeholder": "​",
            "style": "IPY_MODEL_6b814f43833b4d97a86965dc76e10a74",
            "value": "Loading checkpoint shards: 100%"
          }
        },
        "4a6da917a12e46d6ae884ec2ad864aaf": {
          "model_module": "@jupyter-widgets/controls",
          "model_name": "FloatProgressModel",
          "model_module_version": "1.5.0",
          "state": {
            "_dom_classes": [],
            "_model_module": "@jupyter-widgets/controls",
            "_model_module_version": "1.5.0",
            "_model_name": "FloatProgressModel",
            "_view_count": null,
            "_view_module": "@jupyter-widgets/controls",
            "_view_module_version": "1.5.0",
            "_view_name": "ProgressView",
            "bar_style": "success",
            "description": "",
            "description_tooltip": null,
            "layout": "IPY_MODEL_729ee4d9410e4caeb510bc2f1f7806b2",
            "max": 2,
            "min": 0,
            "orientation": "horizontal",
            "style": "IPY_MODEL_8255b5c976da4054b1ffe9e86890c8ac",
            "value": 2
          }
        },
        "50fba0ad33de4b94a45f18d50630997a": {
          "model_module": "@jupyter-widgets/controls",
          "model_name": "HTMLModel",
          "model_module_version": "1.5.0",
          "state": {
            "_dom_classes": [],
            "_model_module": "@jupyter-widgets/controls",
            "_model_module_version": "1.5.0",
            "_model_name": "HTMLModel",
            "_view_count": null,
            "_view_module": "@jupyter-widgets/controls",
            "_view_module_version": "1.5.0",
            "_view_name": "HTMLView",
            "description": "",
            "description_tooltip": null,
            "layout": "IPY_MODEL_619cd1f70e5a4aa5bc9f973ac4da84da",
            "placeholder": "​",
            "style": "IPY_MODEL_a8bbc2ba819b4f1bbbe7fcd12afaf134",
            "value": " 2/2 [00:00&lt;00:00,  2.19it/s]"
          }
        },
        "06f8a411014c4d849323bd88e6948604": {
          "model_module": "@jupyter-widgets/base",
          "model_name": "LayoutModel",
          "model_module_version": "1.2.0",
          "state": {
            "_model_module": "@jupyter-widgets/base",
            "_model_module_version": "1.2.0",
            "_model_name": "LayoutModel",
            "_view_count": null,
            "_view_module": "@jupyter-widgets/base",
            "_view_module_version": "1.2.0",
            "_view_name": "LayoutView",
            "align_content": null,
            "align_items": null,
            "align_self": null,
            "border": null,
            "bottom": null,
            "display": null,
            "flex": null,
            "flex_flow": null,
            "grid_area": null,
            "grid_auto_columns": null,
            "grid_auto_flow": null,
            "grid_auto_rows": null,
            "grid_column": null,
            "grid_gap": null,
            "grid_row": null,
            "grid_template_areas": null,
            "grid_template_columns": null,
            "grid_template_rows": null,
            "height": null,
            "justify_content": null,
            "justify_items": null,
            "left": null,
            "margin": null,
            "max_height": null,
            "max_width": null,
            "min_height": null,
            "min_width": null,
            "object_fit": null,
            "object_position": null,
            "order": null,
            "overflow": null,
            "overflow_x": null,
            "overflow_y": null,
            "padding": null,
            "right": null,
            "top": null,
            "visibility": null,
            "width": null
          }
        },
        "2f77d3637f4443a6b98e763e5b805704": {
          "model_module": "@jupyter-widgets/base",
          "model_name": "LayoutModel",
          "model_module_version": "1.2.0",
          "state": {
            "_model_module": "@jupyter-widgets/base",
            "_model_module_version": "1.2.0",
            "_model_name": "LayoutModel",
            "_view_count": null,
            "_view_module": "@jupyter-widgets/base",
            "_view_module_version": "1.2.0",
            "_view_name": "LayoutView",
            "align_content": null,
            "align_items": null,
            "align_self": null,
            "border": null,
            "bottom": null,
            "display": null,
            "flex": null,
            "flex_flow": null,
            "grid_area": null,
            "grid_auto_columns": null,
            "grid_auto_flow": null,
            "grid_auto_rows": null,
            "grid_column": null,
            "grid_gap": null,
            "grid_row": null,
            "grid_template_areas": null,
            "grid_template_columns": null,
            "grid_template_rows": null,
            "height": null,
            "justify_content": null,
            "justify_items": null,
            "left": null,
            "margin": null,
            "max_height": null,
            "max_width": null,
            "min_height": null,
            "min_width": null,
            "object_fit": null,
            "object_position": null,
            "order": null,
            "overflow": null,
            "overflow_x": null,
            "overflow_y": null,
            "padding": null,
            "right": null,
            "top": null,
            "visibility": null,
            "width": null
          }
        },
        "6b814f43833b4d97a86965dc76e10a74": {
          "model_module": "@jupyter-widgets/controls",
          "model_name": "DescriptionStyleModel",
          "model_module_version": "1.5.0",
          "state": {
            "_model_module": "@jupyter-widgets/controls",
            "_model_module_version": "1.5.0",
            "_model_name": "DescriptionStyleModel",
            "_view_count": null,
            "_view_module": "@jupyter-widgets/base",
            "_view_module_version": "1.2.0",
            "_view_name": "StyleView",
            "description_width": ""
          }
        },
        "729ee4d9410e4caeb510bc2f1f7806b2": {
          "model_module": "@jupyter-widgets/base",
          "model_name": "LayoutModel",
          "model_module_version": "1.2.0",
          "state": {
            "_model_module": "@jupyter-widgets/base",
            "_model_module_version": "1.2.0",
            "_model_name": "LayoutModel",
            "_view_count": null,
            "_view_module": "@jupyter-widgets/base",
            "_view_module_version": "1.2.0",
            "_view_name": "LayoutView",
            "align_content": null,
            "align_items": null,
            "align_self": null,
            "border": null,
            "bottom": null,
            "display": null,
            "flex": null,
            "flex_flow": null,
            "grid_area": null,
            "grid_auto_columns": null,
            "grid_auto_flow": null,
            "grid_auto_rows": null,
            "grid_column": null,
            "grid_gap": null,
            "grid_row": null,
            "grid_template_areas": null,
            "grid_template_columns": null,
            "grid_template_rows": null,
            "height": null,
            "justify_content": null,
            "justify_items": null,
            "left": null,
            "margin": null,
            "max_height": null,
            "max_width": null,
            "min_height": null,
            "min_width": null,
            "object_fit": null,
            "object_position": null,
            "order": null,
            "overflow": null,
            "overflow_x": null,
            "overflow_y": null,
            "padding": null,
            "right": null,
            "top": null,
            "visibility": null,
            "width": null
          }
        },
        "8255b5c976da4054b1ffe9e86890c8ac": {
          "model_module": "@jupyter-widgets/controls",
          "model_name": "ProgressStyleModel",
          "model_module_version": "1.5.0",
          "state": {
            "_model_module": "@jupyter-widgets/controls",
            "_model_module_version": "1.5.0",
            "_model_name": "ProgressStyleModel",
            "_view_count": null,
            "_view_module": "@jupyter-widgets/base",
            "_view_module_version": "1.2.0",
            "_view_name": "StyleView",
            "bar_color": null,
            "description_width": ""
          }
        },
        "619cd1f70e5a4aa5bc9f973ac4da84da": {
          "model_module": "@jupyter-widgets/base",
          "model_name": "LayoutModel",
          "model_module_version": "1.2.0",
          "state": {
            "_model_module": "@jupyter-widgets/base",
            "_model_module_version": "1.2.0",
            "_model_name": "LayoutModel",
            "_view_count": null,
            "_view_module": "@jupyter-widgets/base",
            "_view_module_version": "1.2.0",
            "_view_name": "LayoutView",
            "align_content": null,
            "align_items": null,
            "align_self": null,
            "border": null,
            "bottom": null,
            "display": null,
            "flex": null,
            "flex_flow": null,
            "grid_area": null,
            "grid_auto_columns": null,
            "grid_auto_flow": null,
            "grid_auto_rows": null,
            "grid_column": null,
            "grid_gap": null,
            "grid_row": null,
            "grid_template_areas": null,
            "grid_template_columns": null,
            "grid_template_rows": null,
            "height": null,
            "justify_content": null,
            "justify_items": null,
            "left": null,
            "margin": null,
            "max_height": null,
            "max_width": null,
            "min_height": null,
            "min_width": null,
            "object_fit": null,
            "object_position": null,
            "order": null,
            "overflow": null,
            "overflow_x": null,
            "overflow_y": null,
            "padding": null,
            "right": null,
            "top": null,
            "visibility": null,
            "width": null
          }
        },
        "a8bbc2ba819b4f1bbbe7fcd12afaf134": {
          "model_module": "@jupyter-widgets/controls",
          "model_name": "DescriptionStyleModel",
          "model_module_version": "1.5.0",
          "state": {
            "_model_module": "@jupyter-widgets/controls",
            "_model_module_version": "1.5.0",
            "_model_name": "DescriptionStyleModel",
            "_view_count": null,
            "_view_module": "@jupyter-widgets/base",
            "_view_module_version": "1.2.0",
            "_view_name": "StyleView",
            "description_width": ""
          }
        }
      }
    }
  },
  "cells": [
    {
      "cell_type": "markdown",
      "metadata": {
        "id": "view-in-github",
        "colab_type": "text"
      },
      "source": [
        "<a href=\"https://colab.research.google.com/github/strange007/docker/blob/main/Copy_of_Fine_Tune_LLAMA_2_Using_QLoRA_Quantization_(2).ipynb\" target=\"_parent\"><img src=\"https://colab.research.google.com/assets/colab-badge.svg\" alt=\"Open In Colab\"/></a>"
      ]
    },
    {
      "cell_type": "markdown",
      "source": [
        "# Overview of the SFFT and RLHF:\n",
        "![1_yv55OE0BOSRs8PGwzwqf0g.jpg](data:image/jpeg;base64,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)"
      ],
      "metadata": {
        "id": "Kdj-FIS3t7Fj"
      }
    },
    {
      "cell_type": "code",
      "execution_count": null,
      "metadata": {
        "id": "FuXIFTFapAMI"
      },
      "outputs": [],
      "source": [
        "!pip install -q -U bitsandbytes\n",
        "# !pip install -q -U git+https://github.com/huggingface/transformers.git\n",
        "!pip install transformers==4.31\n",
        "!pip install -q -U git+https://github.com/huggingface/peft.git\n",
        "!pip install -q -U git+https://github.com/huggingface/accelerate.git\n",
        "!pip install -q datasets\n",
        "!pip install evaluate\n",
        "!pip install -qqq trl==0.7.1"
      ]
    },
    {
      "cell_type": "code",
      "source": [
        "import torch\n",
        "import time\n",
        "import evaluate\n",
        "import pandas as pd\n",
        "import numpy as np\n",
        "from datasets import Dataset, load_dataset\n",
        "import random"
      ],
      "metadata": {
        "id": "Nhhpx-USZez5"
      },
      "execution_count": null,
      "outputs": []
    },
    {
      "cell_type": "code",
      "source": [
        "huggingface_dataset_name = \"knkarthick/dialogsum\"\n",
        "\n",
        "dataset = load_dataset(huggingface_dataset_name)\n",
        "\n",
        "dataset"
      ],
      "metadata": {
        "id": "lbG27RLLZUmN"
      },
      "execution_count": null,
      "outputs": []
    },
    {
      "cell_type": "markdown",
      "source": [
        "\n",
        "###  Preprocess the Dialog-Summary Dataset\n",
        "\n",
        "You need to convert the dialog-summary (prompt-response) pairs into explicit instructions for the LLM. Prepend an instruction to the start of the dialog with `Summarize the following conversation` and to the start of the summary with `Summary` as follows:\n",
        "\n",
        "Training prompt (dialogue):\n",
        "```\n",
        "Summarize the following conversation.\n",
        "\n",
        "    Chris: This is his part of the conversation.\n",
        "    Antje: This is her part of the conversation.\n",
        "    \n",
        "Summary:\n",
        "```\n",
        "\n",
        "Training response (summary):\n",
        "```\n",
        "Both Chris and Antje participated in the conversation.\n",
        "```\n",
        "\n",
        "Then preprocess the prompt-response dataset into tokens and pull out their `input_ids` (1 per token)."
      ],
      "metadata": {
        "id": "KMnZO4fjaahC"
      }
    },
    {
      "cell_type": "code",
      "source": [
        "def format_instruction(dialogue: str, summary: str):\n",
        "\treturn f\"\"\"### Instruction:\n",
        "Summarize the following conversation.\n",
        "\n",
        "### Input:\n",
        "{dialogue.strip()}\n",
        "\n",
        "### Summary:\n",
        "{summary}\n",
        "\"\"\".strip()\n"
      ],
      "metadata": {
        "id": "z-QDPd1JlIfV"
      },
      "execution_count": null,
      "outputs": []
    },
    {
      "cell_type": "code",
      "source": [
        "def generate_instruction_dataset(data_point):\n",
        "\n",
        "    return {\n",
        "        \"dialogue\": data_point[\"dialogue\"],\n",
        "        \"summary\": data_point[\"summary\"],\n",
        "        \"text\": format_instruction(data_point[\"dialogue\"],data_point[\"summary\"])\n",
        "    }"
      ],
      "metadata": {
        "id": "sAJqa7lRkg4R"
      },
      "execution_count": null,
      "outputs": []
    },
    {
      "cell_type": "code",
      "source": [
        "def process_dataset(data: Dataset):\n",
        "    return (\n",
        "        data.shuffle(seed=42)\n",
        "        .map(generate_instruction_dataset).remove_columns(['id', 'topic',])\n",
        "    )"
      ],
      "metadata": {
        "id": "h5Hj9clPmvKY"
      },
      "execution_count": null,
      "outputs": []
    },
    {
      "cell_type": "code",
      "source": [
        "# sample_dataset = dataset.filter(lambda example, index: index % 100 == 0, with_indices=True)"
      ],
      "metadata": {
        "id": "onMf4n_ImaI2",
        "colab": {
          "base_uri": "https://localhost:8080/",
          "height": 113,
          "referenced_widgets": [
            "bf15f4895cdf468e8b1cce4cb9ac63ea",
            "a570fd881c954d31bb1adbc815db69fb",
            "d3364390f54546e193984b2ee3d60f80",
            "0b83df02e93b4477a0c9040bc369c3e7",
            "53f7313f9dcc4507ac5b1123f89ad36f",
            "432e817e27214e3da3cabe5a7c3fe0fe",
            "a268c31a22cc4b18a65e5728547a9285",
            "ce6f0125fb8849f0a6007ec62656b36f",
            "d1498e405ca1462a982c0b482aad6113",
            "19c698a07da94f788d450c103801ab9a",
            "21953001a08143ff95ea387d59ac2f20",
            "0910ea033d5a44de996dde979b4b1f6d",
            "48cb4c0d3e834dbf932f0f3a019cdedd",
            "69168e84565a48c98ab2283916738760",
            "d063fa83a8b749278edd1a3588c28cfd",
            "03d016099a6348e5b4917e912444eeba",
            "f0831faa484044b498d5084104e44b01",
            "424888bfb24a486fb84626daca4d8ff3",
            "97286180510346cd940ee8c863751a90",
            "561d90e3cdc74838a05c58da06485aa6",
            "d6cca172e2f3435b98c10d35286d8299",
            "825d4b21d41c40eb8202a205621e7c92",
            "65974533a9bf44b6aefa8dabd562a0c1",
            "22a462ed52f54ed58930cbb0de8d4533",
            "dfbf953bf2fb48bf9baaef36ba661021",
            "84aeff4581cb465097277b5a1ba97c33",
            "fc881497973c4e2d8b612b72ccf51935",
            "049aa8132df24f72ab23a19e142beb29",
            "b2823ce125d64ee0a1127401d9599ecd",
            "f1f42033b24b44708b872d08ef005899",
            "a2756476e80e4db0baaaf2152f07ec26",
            "ddd69e15c56946c2b6bf87861eb54d3a",
            "7970e6f630ff4ac5bedeed53b67b4a95"
          ]
        },
        "outputId": "91f22653-d026-434e-9afe-c3b3fc196f8d"
      },
      "execution_count": null,
      "outputs": [
        {
          "output_type": "display_data",
          "data": {
            "text/plain": [
              "Filter:   0%|          | 0/12460 [00:00<?, ? examples/s]"
            ],
            "application/vnd.jupyter.widget-view+json": {
              "version_major": 2,
              "version_minor": 0,
              "model_id": "bf15f4895cdf468e8b1cce4cb9ac63ea"
            }
          },
          "metadata": {}
        },
        {
          "output_type": "display_data",
          "data": {
            "text/plain": [
              "Filter:   0%|          | 0/500 [00:00<?, ? examples/s]"
            ],
            "application/vnd.jupyter.widget-view+json": {
              "version_major": 2,
              "version_minor": 0,
              "model_id": "0910ea033d5a44de996dde979b4b1f6d"
            }
          },
          "metadata": {}
        },
        {
          "output_type": "display_data",
          "data": {
            "text/plain": [
              "Filter:   0%|          | 0/1500 [00:00<?, ? examples/s]"
            ],
            "application/vnd.jupyter.widget-view+json": {
              "version_major": 2,
              "version_minor": 0,
              "model_id": "65974533a9bf44b6aefa8dabd562a0c1"
            }
          },
          "metadata": {}
        }
      ]
    },
    {
      "cell_type": "code",
      "source": [
        "\n",
        "# sample_dataset[\"train\"] = process_dataset(sample_dataset[\"train\"])\n",
        "# sample_dataset[\"test\"] = process_dataset(sample_dataset[\"validation\"])\n",
        "# sample_dataset[\"validation\"] = process_dataset(sample_dataset[\"validation\"])"
      ],
      "metadata": {
        "id": "pZaKx3QOnGjh"
      },
      "execution_count": null,
      "outputs": []
    },
    {
      "cell_type": "code",
      "source": [
        "## APPLYING PREPROCESSING ON WHOLE DATASET\n",
        "dataset[\"train\"] = process_dataset(dataset[\"train\"])\n",
        "dataset[\"test\"] = process_dataset(dataset[\"validation\"])\n",
        "dataset[\"validation\"] = process_dataset(dataset[\"validation\"])\n",
        "# Select 1000 rows from the training split\n",
        "train_data = dataset['train'].shuffle(seed=42).select([i for i in range(500)])\n",
        "\n",
        "# Select 100 rows from the test and validation splits\n",
        "test_data = dataset['test'].shuffle(seed=42).select([i for i in range(50)])\n",
        "validation_data = dataset['validation'].shuffle(seed=42).select([i for i in range(50)])\n",
        "\n",
        "train_data,test_data,validation_data"
      ],
      "metadata": {
        "id": "LEyJFjPbKW2l"
      },
      "execution_count": null,
      "outputs": []
    },
    {
      "cell_type": "code",
      "source": [
        "sample_dataset[\"train\"][\"text\"][0]"
      ],
      "metadata": {
        "colab": {
          "base_uri": "https://localhost:8080/",
          "height": 231
        },
        "id": "j9tOpicnIn53",
        "outputId": "8977be80-87d6-4279-8087-d67bd2d09a4a"
      },
      "execution_count": null,
      "outputs": [
        {
          "output_type": "execute_result",
          "data": {
            "text/plain": [
              "\"### Instruction:\\nBelow is a conversation between different person or humans. Write a summary of the conversation.\\n\\n### Input:\\n#Person1#: Hello, Anna speaking!\\n#Person2#: Hey, Anna, this is Jason.\\n#Person1#: Jason, where have you been hiding lately? You know it's been a long time since your last call. Have you been good?\\n#Person2#: Yes. How are you, Anna?\\n#Person1#: I am fine. What have you been doing?\\n#Person2#: Working. I've been really busy these days. I got a promotion.\\n#Person1#: That's great, congratulations!\\n#Person2#: Thanks. I am feeling pretty good about myself too. You know, bigger office, a raise and even an assistant.\\n#Person1#: That's good. So I guess I'll have to make an appointment to see you.\\n#Person2#: You are kidding.\\n#Person1#: How long have you been working there?\\n#Person2#: A bit over two years. This is a fast-moving company, and seniority isn't the only factor in deciding promotions.\\n#Person1#: How do you like your new boss?\\n#Person2#: She is very nice and open-minded.\\n#Person1#: Much better than the last one, huh?\\n#Person2#: Yeah. He was a real slave driver. He probably would have loved it if we were robots.\\n#Person1#: Forget about him. Come over to my house tonight. Let's get drunk.\\n#Person2#: Good. Tonight 8 o'clock.\\n#Person1#: 8 it is. See you then.\\n#Person2#: Bye.\\n\\n### Summary:\\nJason hasn't called Anna for a long time. He calls her to tell her he got a promotion and he feels good about it. Anna invites him to come over to her house tonight to get drunk.\""
            ],
            "application/vnd.google.colaboratory.intrinsic+json": {
              "type": "string"
            }
          },
          "metadata": {},
          "execution_count": 16
        }
      ]
    },
    {
      "cell_type": "code",
      "source": [
        "import torch\n",
        "from transformers import AutoTokenizer, AutoModelForCausalLM, BitsAndBytesConfig\n",
        "\n",
        "model_id =  \"NousResearch/Llama-2-7b-hf\"\n",
        "# model_id = \"meta-llama/Llama-2-13b-chat-hf\"\n",
        "bnb_config = BitsAndBytesConfig(\n",
        "    load_in_4bit=True,\n",
        "    bnb_4bit_use_double_quant=True,\n",
        "    bnb_4bit_quant_type=\"nf4\",\n",
        "    bnb_4bit_compute_dtype=torch.bfloat16\n",
        ")\n",
        "\n",
        "model = AutoModelForCausalLM.from_pretrained(model_id, quantization_config=bnb_config, device_map=\"auto\")\n",
        "\n",
        "tokenizer = AutoTokenizer.from_pretrained(model_id)\n",
        "tokenizer.pad_token = tokenizer.eos_token\n",
        "tokenizer.padding_side = \"right\"\n"
      ],
      "metadata": {
        "id": "E0Nl5mWL0k2T"
      },
      "execution_count": null,
      "outputs": []
    },
    {
      "cell_type": "markdown",
      "source": [
        "## ZERO-SHOT INFERENCE WITH LLAMA-2 7B"
      ],
      "metadata": {
        "id": "shg-rVGAaEs1"
      }
    },
    {
      "cell_type": "code",
      "source": [
        "index = 0\n",
        "\n",
        "dialogue = dataset['test'][index]['dialogue']\n",
        "summary = dataset['test'][index]['summary']\n",
        "\n",
        "prompt = f\"\"\"\n",
        "Summarize the following conversation.\n",
        "\n",
        "### Input:\n",
        "{dialogue}\n",
        "\n",
        "### Summary:\n",
        "\"\"\"\n",
        "\n",
        "inputs = tokenizer(prompt, return_tensors='pt')\n",
        "output = tokenizer.decode(\n",
        "    model.generate(\n",
        "        inputs[\"input_ids\"],\n",
        "        max_new_tokens=100,\n",
        "    )[0],\n",
        "    skip_special_tokens=True\n",
        ")\n",
        "\n",
        "dash_line = '-'.join('' for x in range(100))\n",
        "print(dash_line)\n",
        "print(f'INPUT PROMPT:\\n{prompt}')\n",
        "print(dash_line)\n",
        "print(f'BASELINE HUMAN SUMMARY:\\n{summary}\\n')\n",
        "print(dash_line)\n",
        "print(f'MODEL GENERATION - ZERO SHOT:\\n{output}')"
      ],
      "metadata": {
        "id": "R_BCUm2FaCxT"
      },
      "execution_count": null,
      "outputs": []
    },
    {
      "cell_type": "markdown",
      "source": [
        "# Training Setup"
      ],
      "metadata": {
        "id": "8ZJbpXXc7U0Q"
      }
    },
    {
      "cell_type": "markdown",
      "source": [
        "### LoRA Explained\n",
        "![1_F7uWJePoMc6Qc1O2WxmQqQ.png](data:image/png;base64,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)"
      ],
      "metadata": {
        "id": "Cy3-r3sWnWMk"
      }
    },
    {
      "cell_type": "markdown",
      "source": [
        "### Merging LoRA ADAPTER With BASE MODEL\n",
        "![lora_diagram.png](data:image/png;base64,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)"
      ],
      "metadata": {
        "id": "WlIVxLKHoHTG"
      }
    },
    {
      "cell_type": "markdown",
      "source": [
        "Then we have to apply some preprocessing to the model to prepare it for training. For that use the `prepare_model_for_kbit_training` method from PEFT."
      ],
      "metadata": {
        "id": "Mp2gMi1ZzGET"
      }
    },
    {
      "cell_type": "code",
      "source": [
        "def print_trainable_parameters(model):\n",
        "    \"\"\"\n",
        "    Prints the number of trainable parameters in the model.\n",
        "    \"\"\"\n",
        "    trainable_params = 0\n",
        "    all_param = 0\n",
        "    for _, param in model.named_parameters():\n",
        "\n",
        "        all_param += param.numel()\n",
        "        if param.requires_grad:\n",
        "            trainable_params += param.numel()\n",
        "    print(\n",
        "        f\"trainable params: {trainable_params} || all params: {all_param} || trainable%: {100 * trainable_params / all_param}\"\n",
        "    )"
      ],
      "metadata": {
        "id": "gkIcwsSU01EB"
      },
      "execution_count": null,
      "outputs": []
    },
    {
      "cell_type": "code",
      "source": [
        "from peft import prepare_model_for_kbit_training\n",
        "\n",
        "model.gradient_checkpointing_enable()\n",
        "model = prepare_model_for_kbit_training(model)"
      ],
      "metadata": {
        "id": "a9EUEDAl0ss3"
      },
      "execution_count": null,
      "outputs": []
    },
    {
      "cell_type": "code",
      "source": [
        "print(model)"
      ],
      "metadata": {
        "id": "v4ax5XurqB0s"
      },
      "execution_count": null,
      "outputs": []
    },
    {
      "cell_type": "code",
      "source": [
        "from peft import LoraConfig, get_peft_model\n",
        "\n",
        "lora_config = LoraConfig(\n",
        "    r=16,\n",
        "    lora_alpha=64,\n",
        "    # target_modules=[\"query_key_value\"],\n",
        "    target_modules=[\"q_proj\", \"k_proj\", \"v_proj\", \"o_proj\"], #specific to Llama models.\n",
        "    lora_dropout=0.1,\n",
        "    bias=\"none\",\n",
        "    task_type=\"CAUSAL_LM\"\n",
        ")\n",
        "\n",
        "model = get_peft_model(model, lora_config)\n",
        "print_trainable_parameters(model)"
      ],
      "metadata": {
        "colab": {
          "base_uri": "https://localhost:8080/"
        },
        "id": "Ybeyl20n3dYH",
        "outputId": "02ae73ec-e8d0-4fa0-ee50-53f22c8639fd"
      },
      "execution_count": null,
      "outputs": [
        {
          "output_type": "stream",
          "name": "stdout",
          "text": [
            "trainable params: 16777216 || all params: 3517190144 || trainable%: 0.477006226934315\n"
          ]
        }
      ]
    },
    {
      "cell_type": "markdown",
      "source": [
        "# Training"
      ],
      "metadata": {
        "id": "OzCg8RJg7csh"
      }
    },
    {
      "cell_type": "markdown",
      "source": [
        "Run the cell below to run the training! For the sake of the demo, we just ran it for few steps just to showcase how to use this integration with existing tools on the HF ecosystem."
      ],
      "metadata": {
        "id": "_0MOtwf3zdZp"
      }
    },
    {
      "cell_type": "code",
      "source": [
        "OUTPUT_DIR = \"llama2-docsum-adapter\"\n",
        "\n",
        "%load_ext tensorboard\n",
        "%tensorboard --logdir llama2-docsum-adapter/runs"
      ],
      "metadata": {
        "id": "fhAcdLVZuXTR"
      },
      "execution_count": null,
      "outputs": []
    },
    {
      "cell_type": "code",
      "source": [
        "from transformers import TrainingArguments\n",
        "\n",
        "training_arguments = TrainingArguments(\n",
        "    per_device_train_batch_size=4,\n",
        "    gradient_accumulation_steps=4,\n",
        "    optim=\"paged_adamw_32bit\",\n",
        "    logging_steps=1,\n",
        "    learning_rate=1e-4,\n",
        "    fp16=True,\n",
        "    max_grad_norm=0.3,\n",
        "    num_train_epochs=2,\n",
        "    evaluation_strategy=\"steps\",\n",
        "    eval_steps=0.2,\n",
        "    warmup_ratio=0.05,\n",
        "    save_strategy=\"epoch\",\n",
        "    group_by_length=True,\n",
        "    output_dir=OUTPUT_DIR,\n",
        "    report_to=\"tensorboard\",\n",
        "    save_safetensors=True,\n",
        "    lr_scheduler_type=\"cosine\",\n",
        "    seed=42,\n",
        ")\n",
        "model.config.use_cache = False  # silence the warnings. Please re-enable for inference!\n"
      ],
      "metadata": {
        "id": "jq0nX33BmfaC"
      },
      "execution_count": null,
      "outputs": []
    },
    {
      "cell_type": "code",
      "source": [
        "from trl import SFTTrainer\n",
        "trainer = SFTTrainer(\n",
        "    model=model,\n",
        "    train_dataset=train_data,\n",
        "    eval_dataset=validation_data,\n",
        "    peft_config=lora_config,\n",
        "    dataset_text_field=\"text\",\n",
        "    max_seq_length=1024,\n",
        "    tokenizer=tokenizer,\n",
        "    args=training_arguments,\n",
        ")\n",
        "\n",
        "trainer.train()"
      ],
      "metadata": {
        "id": "t5hwFT0BvBwa"
      },
      "execution_count": null,
      "outputs": []
    },
    {
      "cell_type": "code",
      "source": [
        "peft_model_path=\"./peft-dialogue-summary\"\n",
        "\n",
        "trainer.model.save_pretrained(peft_model_path)\n",
        "tokenizer.save_pretrained(peft_model_path)"
      ],
      "metadata": {
        "colab": {
          "base_uri": "https://localhost:8080/"
        },
        "id": "ZinIOFxl9fjL",
        "outputId": "bd1b7e57-f137-4d8c-e097-e2f94ad8835d"
      },
      "execution_count": null,
      "outputs": [
        {
          "output_type": "execute_result",
          "data": {
            "text/plain": [
              "('./peft-dialogue-summary/tokenizer_config.json',\n",
              " './peft-dialogue-summary/special_tokens_map.json',\n",
              " './peft-dialogue-summary/tokenizer.json')"
            ]
          },
          "metadata": {},
          "execution_count": 18
        }
      ]
    },
    {
      "cell_type": "markdown",
      "source": [
        "# Inference"
      ],
      "metadata": {
        "id": "lhsbhJmKQm2Z"
      }
    },
    {
      "cell_type": "code",
      "source": [
        "from transformers import TextStreamer\n",
        "model.config.use_cache = True\n",
        "model.eval()"
      ],
      "metadata": {
        "id": "GFUEtn5DE7XO"
      },
      "execution_count": null,
      "outputs": []
    },
    {
      "cell_type": "code",
      "source": [
        "from peft import AutoPeftModelForCausalLM\n",
        "from transformers import AutoTokenizer\n",
        "\n",
        "peft_model_dir = \"peft-dialogue-summary\"\n",
        "\n",
        "# load base LLM model and tokenizer\n",
        "trained_model = AutoPeftModelForCausalLM.from_pretrained(\n",
        "    peft_model_dir,\n",
        "    low_cpu_mem_usage=True,\n",
        "    torch_dtype=torch.float16,\n",
        "    load_in_4bit=True,\n",
        ")\n",
        "tokenizer = AutoTokenizer.from_pretrained(peft_model_dir)"
      ],
      "metadata": {
        "colab": {
          "base_uri": "https://localhost:8080/",
          "height": 49,
          "referenced_widgets": [
            "1b9a271a34aa468aae684fe234020a90",
            "ba667c85c7144911a5ab99300d9129fc",
            "25ce2acbaa584b85aa3450faaaf6f30e",
            "191a21608bda49fe911bae57ebfa34ce",
            "475c517579ed4381b34fefbc4e991c2b",
            "3f61b6ce25074be991b70321bfb9ea69",
            "adf90a86b1754b01bf2d01c5eb279fb0",
            "c5cd335b66984214857426a4b83c749e",
            "fe4da59305d3420688f713cbd6b9e4c7",
            "9d8ab704262844a99096363715cb2e67",
            "1c1823dd7fc3446393a9897576ab21c7"
          ]
        },
        "id": "RAXQGIGABYuz",
        "outputId": "44bdccf0-4acc-4f22-a1dd-dda1f0839e8f"
      },
      "execution_count": null,
      "outputs": [
        {
          "output_type": "display_data",
          "data": {
            "text/plain": [
              "Loading checkpoint shards:   0%|          | 0/2 [00:00<?, ?it/s]"
            ],
            "application/vnd.jupyter.widget-view+json": {
              "version_major": 2,
              "version_minor": 0,
              "model_id": "1b9a271a34aa468aae684fe234020a90"
            }
          },
          "metadata": {}
        }
      ]
    },
    {
      "cell_type": "code",
      "source": [
        "index = 0\n",
        "\n",
        "dialogue = dataset['test'][index]['dialogue']\n",
        "summary = dataset['test'][index]['summary']\n",
        "\n",
        "prompt = f\"\"\"\n",
        "Summarize the following conversation.\n",
        "\n",
        "### Input:\n",
        "{dialogue}\n",
        "\n",
        "### Summary:\n",
        "\"\"\"\n",
        "\n",
        "input_ids = tokenizer(prompt, return_tensors='pt',truncation=True).input_ids.cuda()\n",
        "# output = tokenizer.decode(\n",
        "#     trained_model.generate(\n",
        "#         inputs_ids,\n",
        "#         max_new_tokens=100,\n",
        "#     )[0],\n",
        "#     skip_special_tokens=True\n",
        "# )\n",
        "outputs = trained_model.generate(input_ids=input_ids, max_new_tokens=100, )\n",
        "output= tokenizer.batch_decode(outputs.detach().cpu().numpy(), skip_special_tokens=True)[0][len(prompt):]\n",
        "\n",
        "dash_line = '-'.join('' for x in range(100))\n",
        "print(dash_line)\n",
        "print(f'INPUT PROMPT:\\n{prompt}')\n",
        "print(dash_line)\n",
        "print(f'BASELINE HUMAN SUMMARY:\\n{summary}\\n')\n",
        "print(dash_line)\n",
        "print(f'TRAINED MODEL GENERATED TEXT :\\n{output}')"
      ],
      "metadata": {
        "id": "pzyS_l0eDJRe"
      },
      "execution_count": null,
      "outputs": []
    },
    {
      "cell_type": "markdown",
      "source": [
        "# Merge Trained LoRA Adapter With BASE MODEL and Push Model to Hub\n",
        "\n",
        "---\n",
        "\n"
      ],
      "metadata": {
        "id": "WcH4-vLU7fka"
      }
    },
    {
      "cell_type": "code",
      "source": [
        "trained_model = AutoPeftModelForCausalLM.from_pretrained(\n",
        "    peft_model_dir,\n",
        "    low_cpu_mem_usage=True,\n",
        "    torch_dtype=torch.float16,\n",
        ")\n",
        "# Merge LoRA and base model\n",
        "merged_model = trained_model.merge_and_unload()\n",
        "\n",
        "# Save the merged model\n",
        "merged_model.save_pretrained(\"merged_model\",safe_serialization=True)\n",
        "tokenizer.save_pretrained(\"merged_model\")\n",
        "\n",
        "# push merged model to the hub\n",
        "# merged_model.push_to_hub(\"user/repo\")\n",
        "# tokenizer.push_to_hub(\"user/repo\")"
      ],
      "metadata": {
        "colab": {
          "base_uri": "https://localhost:8080/",
          "height": 49,
          "referenced_widgets": [
            "22fd9ceea6a041fd8edb3413a118792b",
            "3b3079393efa40bea6f06c722c6d12aa",
            "4a6da917a12e46d6ae884ec2ad864aaf",
            "50fba0ad33de4b94a45f18d50630997a",
            "06f8a411014c4d849323bd88e6948604",
            "2f77d3637f4443a6b98e763e5b805704",
            "6b814f43833b4d97a86965dc76e10a74",
            "729ee4d9410e4caeb510bc2f1f7806b2",
            "8255b5c976da4054b1ffe9e86890c8ac",
            "619cd1f70e5a4aa5bc9f973ac4da84da",
            "a8bbc2ba819b4f1bbbe7fcd12afaf134"
          ]
        },
        "id": "PhUJ58fJy24t",
        "outputId": "c8cd762b-a41c-40c3-f746-778ee28d9925"
      },
      "execution_count": null,
      "outputs": [
        {
          "output_type": "display_data",
          "data": {
            "text/plain": [
              "Loading checkpoint shards:   0%|          | 0/2 [00:00<?, ?it/s]"
            ],
            "application/vnd.jupyter.widget-view+json": {
              "version_major": 2,
              "version_minor": 0,
              "model_id": "22fd9ceea6a041fd8edb3413a118792b"
            }
          },
          "metadata": {}
        }
      ]
    },
    {
      "cell_type": "code",
      "source": [],
      "metadata": {
        "id": "ChAVwKo2TN8K"
      },
      "execution_count": null,
      "outputs": []
    }
  ]
}